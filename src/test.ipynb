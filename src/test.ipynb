{
 "cells": [
  {
   "cell_type": "code",
   "execution_count": 2,
   "metadata": {},
   "outputs": [
    {
     "name": "stdout",
     "output_type": "stream",
     "text": [
      "d:\\dev\\pipelines\\data\\segmentate_5s.dill\n"
     ]
    },
    {
     "name": "stderr",
     "output_type": "stream",
     "text": [
      "  0%|          | 0/316 [00:00<?, ?it/s]"
     ]
    },
    {
     "name": "stdout",
     "output_type": "stream",
     "text": [
      "('Treppenlaufen', 'Weiping_Zhang', '91231c7f9ce84b41ad46b9ca017df5ff')\n",
      "14\n",
      "(251, 13)\n",
      "Index(['Accelerometer_x', 'Accelerometer_y', 'Accelerometer_z', 'Gyroscope_x',\n",
      "       'Gyroscope_y', 'Gyroscope_z', 'Magnetometer_x', 'Magnetometer_y',\n",
      "       'Magnetometer_z', 'activity', 'hash', 'person', 'segment_id'],\n",
      "      dtype='object')\n",
      "Index(['Accelerometer_x', 'Accelerometer_y', 'Accelerometer_z', 'Gyroscope_x',\n",
      "       'Gyroscope_y', 'Gyroscope_z', 'Magnetometer_x', 'Magnetometer_y',\n",
      "       'Magnetometer_z'],\n",
      "      dtype='object')\n",
      "(51,) (52,) (51, 52)\n"
     ]
    },
    {
     "data": {
      "image/png": "[encoded data removed]",
      "text/plain": [
       "<Figure size 640x480 with 1 Axes>"
      ]
     },
     "metadata": {},
     "output_type": "display_data"
    },
    {
     "name": "stderr",
     "output_type": "stream",
     "text": [
      " 79%|███████▉  | 250/316 [00:00<00:00, 1222.67it/s]\n"
     ]
    }
   ],
   "source": [
    "import numpy as np\n",
    "import matplotlib.pyplot as plt\n",
    "import pandas as pd\n",
    "from dill import load, dump\n",
    "from scipy.signal import stft\n",
    "\n",
    "from tqdm import tqdm\n",
    "# get absolute path of \"data/segmentate_5s.dill\"\n",
    "import os \n",
    "path = os.path.abspath(\"../data/segmentate_5s.dill\")\n",
    "print(path)\n",
    "\n",
    "# read data/segmentate_5s.dill\n",
    "i = 0\n",
    "with open(\"../data/segmentate_5s.dill\", \"rb\") as fr:\n",
    "    for key, segments in tqdm(load(fr).items()):\n",
    "        if i != 250:\n",
    "            i += 1\n",
    "            continue\n",
    "        print(key)\n",
    "        print(len(segments))\n",
    "        print(segments[0].shape)\n",
    "        print(segments[0].columns)\n",
    "        # print only numeric columns\n",
    "        print(segments[0].select_dtypes(include=np.number).columns)\n",
    "        #print(segments[0].iloc[:, 0])\n",
    "        # apply stft\n",
    "        f, t, Zxx = stft(segments[0].iloc[:, 0], fs=50, noverlap=95, nperseg=100)\n",
    "        print(f.shape, t.shape, Zxx.shape)\n",
    "        # create spectrogram\n",
    "        plt.pcolormesh(t, f, np.abs(Zxx), vmin=0, vmax=1)\n",
    "        # log scale\n",
    "        plt.title('STFT Magnitude')\n",
    "        plt.ylabel('Frequency [Hz]')\n",
    "        plt.xlabel('Time [sec]')\n",
    "        plt.show()\n",
    "        break\n",
    "        i += 1\n",
    "        # break\n",
    "        if i > 5:\n",
    "            break"
   ]
  },
  {
   "cell_type": "code",
   "execution_count": 10,
   "metadata": {},
   "outputs": [
    {
     "name": "stderr",
     "output_type": "stream",
     "text": [
      "100%|██████████| 316/316 [00:22<00:00, 14.02it/s]\n"
     ]
    }
   ],
   "source": [
    "# for each segment, apply stft and create spectrogram\n",
    "spectograms = {}\n",
    "with open(\"../data/segmentate_5s.dill\", \"rb\") as fr:\n",
    "    for key, segments in tqdm(load(fr).items()):\n",
    "        fft_segments = []\n",
    "        for segment in segments:\n",
    "            spectogram = []\n",
    "            # for each numeric column\n",
    "            for col in segment.select_dtypes(include=np.number).columns:\n",
    "                f, t, Zxx = stft(segment[col], fs=50, noverlap=95, nperseg=100)\n",
    "                spectogram.append(np.abs(Zxx))\n",
    "            fft_segments.append(np.array(spectogram))\n",
    "            #print(np.array(spectogram).shape)\n",
    "        spectograms[key] = fft_segments\n",
    "\n",
    "# save spectograms\n",
    "with open(\"../data/spectograms.dill\", \"wb\") as fw:\n",
    "    dump(spectograms, fw)"
   ]
  },
  {
   "cell_type": "code",
   "execution_count": 12,
   "metadata": {},
   "outputs": [
    {
     "name": "stdout",
     "output_type": "stream",
     "text": [
      "False\n"
     ]
    },
    {
     "data": {
      "text/plain": [
       "'2.0.0+cpu'"
      ]
     },
     "execution_count": 12,
     "metadata": {},
     "output_type": "execute_result"
    }
   ],
   "source": [
    "import torch\n",
    "# check if cuda is available\n",
    "print(torch.cuda.is_available())\n",
    "torch.__version__"
   ]
  }
 ],
 "metadata": {
  "kernelspec": {
   "display_name": ".venv",
   "language": "python",
   "name": "python3"
  },
  "language_info": {
   "codemirror_mode": {
    "name": "ipython",
    "version": 3
   },
   "file_extension": ".py",
   "mimetype": "text/x-python",
   "name": "python",
   "nbconvert_exporter": "python",
   "pygments_lexer": "ipython3",
   "version": "3.10.2"
  },
  "orig_nbformat": 4
 },
 "nbformat": 4,
 "nbformat_minor": 2
}
